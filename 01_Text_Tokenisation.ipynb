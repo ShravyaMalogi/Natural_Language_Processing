{
  "nbformat": 4,
  "nbformat_minor": 0,
  "metadata": {
    "colab": {
      "provenance": [],
      "authorship_tag": "ABX9TyMKIsGWAd4JOVZr3Wkc9XxG",
      "include_colab_link": true
    },
    "kernelspec": {
      "name": "python3",
      "display_name": "Python 3"
    },
    "language_info": {
      "name": "python"
    }
  },
  "cells": [
    {
      "cell_type": "markdown",
      "metadata": {
        "id": "view-in-github",
        "colab_type": "text"
      },
      "source": [
        "<a href=\"https://colab.research.google.com/github/ShravyaMalogi/Natural_Language_Processing/blob/main/01_Text_Tokenisation.ipynb\" target=\"_parent\"><img src=\"https://colab.research.google.com/assets/colab-badge.svg\" alt=\"Open In Colab\"/></a>"
      ]
    },
    {
      "cell_type": "code",
      "source": [
        "!pip install nltk"
      ],
      "metadata": {
        "colab": {
          "base_uri": "https://localhost:8080/"
        },
        "id": "L_rofx_2wDx8",
        "outputId": "7db1847b-af8d-4e0d-fa4f-5a4b0ec4c7eb"
      },
      "execution_count": 1,
      "outputs": [
        {
          "output_type": "stream",
          "name": "stdout",
          "text": [
            "Requirement already satisfied: nltk in /usr/local/lib/python3.11/dist-packages (3.9.1)\n",
            "Requirement already satisfied: click in /usr/local/lib/python3.11/dist-packages (from nltk) (8.1.8)\n",
            "Requirement already satisfied: joblib in /usr/local/lib/python3.11/dist-packages (from nltk) (1.4.2)\n",
            "Requirement already satisfied: regex>=2021.8.3 in /usr/local/lib/python3.11/dist-packages (from nltk) (2024.11.6)\n",
            "Requirement already satisfied: tqdm in /usr/local/lib/python3.11/dist-packages (from nltk) (4.67.1)\n"
          ]
        }
      ]
    },
    {
      "cell_type": "code",
      "source": [
        "import nltk\n",
        "nltk.download('punkt_tab')"
      ],
      "metadata": {
        "colab": {
          "base_uri": "https://localhost:8080/"
        },
        "id": "7wbMgrDPy2e7",
        "outputId": "63fdfa24-68cd-47ed-f0dd-56f4cd44b5c3"
      },
      "execution_count": 2,
      "outputs": [
        {
          "output_type": "stream",
          "name": "stderr",
          "text": [
            "[nltk_data] Downloading package punkt_tab to /root/nltk_data...\n",
            "[nltk_data]   Unzipping tokenizers/punkt_tab.zip.\n"
          ]
        },
        {
          "output_type": "execute_result",
          "data": {
            "text/plain": [
              "True"
            ]
          },
          "metadata": {},
          "execution_count": 2
        }
      ]
    },
    {
      "cell_type": "code",
      "source": [
        "from nltk.tokenize import word_tokenize, sent_tokenize"
      ],
      "metadata": {
        "id": "bnQvD1QmvHoj"
      },
      "execution_count": 3,
      "outputs": []
    },
    {
      "cell_type": "code",
      "source": [
        "text=\"\"\"\n",
        "Tokenization is the process of breaking text into smaller units like words or sentences.\n",
        "This is one o the fundamental steps in natural language processing (NLP).\n",
        "\"\"\"\n",
        "\n",
        "sentences=sent_tokenize(text)\n",
        "print(\"Sentences Tokenization:\")\n",
        "\n",
        "for sentence in sentences:\n",
        "  print(sentence)\n",
        "\n",
        "words=word_tokenize(text)\n",
        "print(\"\\nWords Tokenization:\")\n",
        "print(words)"
      ],
      "metadata": {
        "colab": {
          "base_uri": "https://localhost:8080/"
        },
        "id": "3LEudOo_vN7L",
        "outputId": "2a61e943-a625-43fc-832c-7db91a987ba2"
      },
      "execution_count": 4,
      "outputs": [
        {
          "output_type": "stream",
          "name": "stdout",
          "text": [
            "Sentences Tokenization:\n",
            "\n",
            "Tokenization is the process of breaking text into smaller units like words or sentences.\n",
            "This is one o the fundamental steps in natural language processing (NLP).\n",
            "\n",
            "Words Tokenization:\n",
            "['Tokenization', 'is', 'the', 'process', 'of', 'breaking', 'text', 'into', 'smaller', 'units', 'like', 'words', 'or', 'sentences', '.', 'This', 'is', 'one', 'o', 'the', 'fundamental', 'steps', 'in', 'natural', 'language', 'processing', '(', 'NLP', ')', '.']\n"
          ]
        }
      ]
    }
  ]
}