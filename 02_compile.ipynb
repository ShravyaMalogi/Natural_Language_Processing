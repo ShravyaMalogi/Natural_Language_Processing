{
  "nbformat": 4,
  "nbformat_minor": 0,
  "metadata": {
    "colab": {
      "provenance": [],
      "authorship_tag": "ABX9TyMbQi9EkPIhs7zEmAUK9CbT"
    },
    "kernelspec": {
      "name": "python3",
      "display_name": "Python 3"
    },
    "language_info": {
      "name": "python"
    }
  },
  "cells": [
    {
      "cell_type": "markdown",
      "source": [
        "\n",
        "\n",
        "This code demonstrates how to **find specific alphabetic characters** in a given text using **regular expressions (`re` module)** in Python.  \n",
        "\n",
        "### 🔹 Step-by-Step Breakdown  \n",
        "\n",
        "1. **Importing the `re` module**  \n",
        "   - The `re` module provides support for **regular expressions**, which help in pattern matching within strings.  \n",
        "\n",
        "2. **Defining the Regular Expression (`[a-e]`)**  \n",
        "   - `[a-e]` → Matches **any lowercase letter** from **'a' to 'e'** (inclusive).  \n",
        "   - This pattern ensures that only these letters are extracted.  \n",
        "\n",
        "3. **Compiling the Regular Expression (`re.compile(pattern)`)**  \n",
        "   - `re.compile('[a-e]')` compiles the pattern, making it **reusable** for multiple searches.  \n",
        "   - This is useful when applying the same pattern to different strings.  \n",
        "\n",
        "4. **Using `findall()` to Extract Matches**  \n",
        "   - `p.findall(\"Aye, said Mr. Gibenson Stark\")`  \n",
        "   - `findall()` searches for **all occurrences** of the pattern and returns them as a **list**.  \n",
        "\n",
        "5. **Printing the Result**  \n",
        "   - The output of this program will be:  \n",
        "     ```python\n",
        "     ['e', 'a', 'a', 'd', 'b', 'e', 'a']\n",
        "     ```\n",
        "   - These are all the **lowercase letters from 'a' to 'e'** found in the given string.  "
      ],
      "metadata": {
        "id": "jT4ngbhuJnjJ"
      }
    },
    {
      "cell_type": "code",
      "execution_count": 3,
      "metadata": {
        "colab": {
          "base_uri": "https://localhost:8080/"
        },
        "id": "6PqWs9ecH45M",
        "outputId": "5c750bf1-7b16-4153-bfe5-1edbe4bad4f2"
      },
      "outputs": [
        {
          "output_type": "stream",
          "name": "stdout",
          "text": [
            "['e', 'a', 'd', 'b', 'e', 'a']\n"
          ]
        }
      ],
      "source": [
        "import re\n",
        "p = re.compile('[a-e]')\n",
        "\n",
        "print(p.findall(\"Aye,said Mr.Gibenson Stark\"))"
      ]
    },
    {
      "cell_type": "markdown",
      "source": [
        "### 🎯 Summary  \n",
        "- This script **extracts specific lowercase letters** from a string.  \n",
        "- The **regular expression `[a-e]`** ensures only those letters are matched.  \n",
        "- The **output is a list** of matched characters, which can be further processed as needed.  "
      ],
      "metadata": {
        "id": "MS8iPkMaMIYL"
      }
    }
  ]
}