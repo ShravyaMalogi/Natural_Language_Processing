{
  "nbformat": 4,
  "nbformat_minor": 0,
  "metadata": {
    "colab": {
      "provenance": [],
      "authorship_tag": "ABX9TyOYn3JrNC2spj1EtYw5Nse/"
    },
    "kernelspec": {
      "name": "python3",
      "display_name": "Python 3"
    },
    "language_info": {
      "name": "python"
    }
  },
  "cells": [
    {
      "cell_type": "code",
      "execution_count": 1,
      "metadata": {
        "id": "L74rO2aV5t9U",
        "colab": {
          "base_uri": "https://localhost:8080/"
        },
        "outputId": "1c1dde72-17d2-4bc6-fc33-f859c39f2bd5"
      },
      "outputs": [
        {
          "output_type": "stream",
          "name": "stdout",
          "text": [
            "Original Words:  ['caresses', 'ponies', 'flies', 'dies', 'mules', 'caress', 'cares', 'running', 'happiness', 'played']\n",
            "Stemmed Words:  ['caress', 'poni', 'fli', 'di', 'mule', 'cares', 'care', 'ru', 'happines', 'plae']\n"
          ]
        }
      ],
      "source": [
        "import re\n",
        "\n",
        "class PorterStemmer:\n",
        "  def __init__(self):\n",
        "    self.vowels = \"aeiou\"\n",
        "    self.double_consonants = \"bb dd ff gg hh jj kkk ll mm nn pp rr ss tt\"\n",
        "    self.mini_vowel = \"aeiou\"\n",
        "\n",
        "  def is_vowel(self,ch):\n",
        "    return ch in self.vowels\n",
        "\n",
        "  def cons(self,word,i):\n",
        "    return not self.is_vowel(word[i])\n",
        "\n",
        "  def measure(self,word):\n",
        "    \"\"\"Returns the measure of the word(m).\"\"\"\n",
        "    m=0\n",
        "    i=0\n",
        "    while i<len(word):\n",
        "      if self.is_vowel(word[i]):\n",
        "        while i<len(word) and self.is_vowel(word[i]):\n",
        "          i+=1\n",
        "        m+=1\n",
        "      i+=1\n",
        "    return m\n",
        "\n",
        "  def step1a(self,word):\n",
        "    \"\"\"Plural -> singular form.\"\"\"\n",
        "    if word.endswith(\"sses\"):\n",
        "      word=word[:-2]\n",
        "    elif word.endswith(\"ies\"):\n",
        "      word=word[:-2]\n",
        "    elif word.endswith(\"s\"):\n",
        "      word=word[:-1]\n",
        "    return word\n",
        "\n",
        "  def step1b(self,word):\n",
        "    \"\"\"Handle words ending in 'ed' or 'ing'.\"\"\"\n",
        "    if word.endswith(\"eed\"):\n",
        "      if self.measure(word[:-3])>0:\n",
        "        word=word[:-1]\n",
        "    elif word.endswith(\"ed\") or word.endswith(\"ing\"):\n",
        "      stem=word[:-3] if word.endswith(\"ed\") else word[:-4]\n",
        "      if self.measure(stem)>0:\n",
        "        word=stem\n",
        "        if word.endswith((\"at\",\"bl\",\"iz\")):\n",
        "          word+=\"e\"\n",
        "        elif self.cons(word,len(word)-1):\n",
        "          word=word[:-1]\n",
        "        elif self.measure(word):\n",
        "          word+=\"e\"\n",
        "    return word\n",
        "\n",
        "  def step1c(self,word):\n",
        "    \"\"\"Replace 'y' with 'i' if preceded by a consonant.\"\"\"\n",
        "    if word.endswith(\"y\") and self.measure(word[:-1])>0:\n",
        "      word=word[:-1]+\"i\"\n",
        "    return word\n",
        "\n",
        "  def stem(self,word):\n",
        "    \"\"\"Apply stemming steps to a gioven word.\"\"\"\n",
        "    word=word.lower()\n",
        "    word=self.step1a(word)\n",
        "    word=self.step1b(word)\n",
        "    word=self.step1c(word)\n",
        "    return word\n",
        "\n",
        "ps=PorterStemmer()\n",
        "\n",
        "words=[\"caresses\",\"ponies\",\"flies\",\"dies\",\"mules\",\"caress\",\"cares\",\"running\",\"happiness\",\"played\"]\n",
        "stemmed_words=[ps.stem(word) for word in words]\n",
        "\n",
        "print(\"Original Words: \", words)\n",
        "print(\"Stemmed Words: \", stemmed_words)"
      ]
    }
  ]
}