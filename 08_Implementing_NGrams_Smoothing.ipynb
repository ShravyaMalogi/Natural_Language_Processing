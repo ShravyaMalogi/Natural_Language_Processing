{
  "nbformat": 4,
  "nbformat_minor": 0,
  "metadata": {
    "colab": {
      "provenance": [],
      "authorship_tag": "ABX9TyOC63og2cDWCZyZdJVXXcMg"
    },
    "kernelspec": {
      "name": "python3",
      "display_name": "Python 3"
    },
    "language_info": {
      "name": "python"
    }
  },
  "cells": [
    {
      "cell_type": "code",
      "execution_count": null,
      "metadata": {
        "id": "IohZM_bCP4Gc"
      },
      "outputs": [],
      "source": [
        "import re"
      ]
    },
    {
      "cell_type": "code",
      "source": [
        "from collections import Counter,defaultdict"
      ],
      "metadata": {
        "id": "8wF3CDkSQFQi"
      },
      "execution_count": null,
      "outputs": []
    },
    {
      "cell_type": "code",
      "source": [
        "def tokenize(text):\n",
        "  \"\"\"\n",
        "  Tokenizes the input text into words.\n",
        "  \"\"\"\n",
        "  text=re.sub(r'\\W+','',text.lower())\n",
        "  tokens=text.split()\n",
        "  return tokens"
      ],
      "metadata": {
        "id": "1UieZNHVQL-H"
      },
      "execution_count": null,
      "outputs": []
    },
    {
      "cell_type": "code",
      "source": [
        "def generate_ngrams(tokens,n):\n",
        "  \"\"\"\n",
        "  Generates n-grams from the input tokens.\n",
        "  \"\"\"\n",
        "  ngrams=zip(*[tokens[i:] for i in range(n)])\n",
        "  return [''.join(ngram) for ngram in ngrams]"
      ],
      "metadata": {
        "id": "gX1kRajPQcjW"
      },
      "execution_count": null,
      "outputs": []
    },
    {
      "cell_type": "code",
      "source": [
        "def laplace_smoothing(training_text,n=2):\n",
        "  \"\"\"\n",
        "  Applies Laplace smoothing to the input training text.\n",
        "  \"\"\"\n",
        "  tokens=tokenize(training_text)\n",
        "  ngrams=generate_ngrams(tokens,n)\n",
        "  ngram_counts=Counter(ngrams)\n",
        "  unigram_counts=Counter(tokens)\n",
        "  vocab_size=len(set(tokens))\n",
        "  total_ngrams=sum(ngram_counts.values())\n",
        "  smoothed_probs=defaultdict(lambda:1/(total_ngrams+vocab_size))\n",
        "\n",
        "  for ngram,count in ngram_counts.items():\n",
        "    smoothed_probs[ngram]=(count+1)/(total_ngrams+vocab_size)\n",
        "  return smoothed_probs"
      ],
      "metadata": {
        "id": "PSYpwCz7QsUO"
      },
      "execution_count": null,
      "outputs": []
    },
    {
      "cell_type": "code",
      "source": [
        "def get_smoothed_probability(ngram,smoothed_probs):\n",
        "  \"\"\"\n",
        "  Returns the smoothed probability of the input ngram.\n",
        "  \"\"\"\n",
        "  return smoothed_probs[ngram]"
      ],
      "metadata": {
        "id": "OC9VwwkLRni1"
      },
      "execution_count": null,
      "outputs": []
    },
    {
      "cell_type": "code",
      "source": [
        "text=\"I love programming in Python. Python is awesome for data science.\"\n",
        "\n",
        "smoothed_probs=laplace_smoothing(text,n=2)"
      ],
      "metadata": {
        "id": "V3Oo4HunRw9D"
      },
      "execution_count": null,
      "outputs": []
    },
    {
      "cell_type": "code",
      "source": [
        "test_bigram='python is'\n",
        "prob=get_smoothed_probability(test_bigram,smoothed_probs)\n",
        "print(f\"Probability of '{test_bigram}': {prob:6f}\")"
      ],
      "metadata": {
        "colab": {
          "base_uri": "https://localhost:8080/"
        },
        "id": "PAovu1EOSADS",
        "outputId": "5f9c9702-22e4-4669-dad5-b0f430c2ab15"
      },
      "execution_count": null,
      "outputs": [
        {
          "output_type": "stream",
          "name": "stdout",
          "text": [
            "Smoothed probability of 'python is': 1.000000\n"
          ]
        }
      ]
    },
    {
      "cell_type": "code",
      "source": [
        "test_bigram_unseen='data awesome'\n",
        "prob_unseen=get_smoothed_probability(test_bigram_unseen,smoothed_probs)\n",
        "print(f\"Probability of '{test_bigram_unseen}': {prob_unseen:6f}\")"
      ],
      "metadata": {
        "colab": {
          "base_uri": "https://localhost:8080/"
        },
        "id": "2kSvYAfiSNkg",
        "outputId": "8a285062-f8f9-42f4-a99b-a22bf0883ebf"
      },
      "execution_count": null,
      "outputs": [
        {
          "output_type": "stream",
          "name": "stdout",
          "text": [
            "Probability of 'data awesome': 1.000000\n"
          ]
        }
      ]
    }
  ]
}