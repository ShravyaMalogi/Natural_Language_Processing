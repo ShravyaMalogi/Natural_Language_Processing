{
  "nbformat": 4,
  "nbformat_minor": 0,
  "metadata": {
    "colab": {
      "provenance": [],
      "authorship_tag": "ABX9TyNJLxNNOFhi/zIyvZ0jYqQC"
    },
    "kernelspec": {
      "name": "python3",
      "display_name": "Python 3"
    },
    "language_info": {
      "name": "python"
    }
  },
  "cells": [
    {
      "cell_type": "code",
      "execution_count": null,
      "metadata": {
        "id": "_MEhgQcsMUaN"
      },
      "outputs": [],
      "source": [
        "import nltk"
      ]
    },
    {
      "cell_type": "code",
      "source": [
        "from nltk.tokenize import word_tokenize\n",
        "from nltk.stem import PorterStemmer,WordNetLemmatizer\n",
        "from nltk.corpus import wordnet"
      ],
      "metadata": {
        "id": "lNVfF0t5Mj0H"
      },
      "execution_count": null,
      "outputs": []
    },
    {
      "cell_type": "code",
      "source": [
        "nltk.download('punkt_tab')\n",
        "nltk.download('wordnet')\n",
        "nltk.download('omw-1.4')"
      ],
      "metadata": {
        "colab": {
          "base_uri": "https://localhost:8080/"
        },
        "id": "xpe0lbZKM0C2",
        "outputId": "ec9c6a1c-2c31-4ce2-950d-4dbed6eb842d"
      },
      "execution_count": null,
      "outputs": [
        {
          "output_type": "stream",
          "name": "stderr",
          "text": [
            "[nltk_data] Downloading package punkt_tab to /root/nltk_data...\n",
            "[nltk_data]   Package punkt_tab is already up-to-date!\n",
            "[nltk_data] Downloading package wordnet to /root/nltk_data...\n",
            "[nltk_data] Downloading package omw-1.4 to /root/nltk_data...\n"
          ]
        },
        {
          "output_type": "execute_result",
          "data": {
            "text/plain": [
              "True"
            ]
          },
          "metadata": {},
          "execution_count": 5
        }
      ]
    },
    {
      "cell_type": "code",
      "source": [
        "text = \"The children are playing and running in the playground.\"\n",
        "tokens = word_tokenize(text)\n",
        "\n",
        "stemmer = PorterStemmer()\n",
        "stemmed_words = [stemmer.stem(word) for word in tokens]\n",
        "\n",
        "lemmatizer = WordNetLemmatizer()\n",
        "lemmatized_words = [lemmatizer.lemmatize(word,wordnet.VERB) for word in tokens]\n",
        "\n",
        "print(f\"Tokens:,{tokens}\")\n",
        "print(f\"Stemmed Tokens:,{stemmed_words}\")\n",
        "print(f\"Lemmatized Tokens:,{lemmatized_words}\")"
      ],
      "metadata": {
        "colab": {
          "base_uri": "https://localhost:8080/"
        },
        "id": "vm1z-UKCM78Y",
        "outputId": "516ceb28-03f7-495a-f288-6df931b395f5"
      },
      "execution_count": null,
      "outputs": [
        {
          "output_type": "stream",
          "name": "stdout",
          "text": [
            "Tokens:,['The', 'children', 'are', 'playing', 'and', 'running', 'in', 'the', 'playground', '.']\n",
            "Stemmed Tokens:,['the', 'children', 'are', 'play', 'and', 'run', 'in', 'the', 'playground', '.']\n",
            "Lemmatized Tokens:,['The', 'children', 'be', 'play', 'and', 'run', 'in', 'the', 'playground', '.']\n"
          ]
        }
      ]
    }
  ]
}