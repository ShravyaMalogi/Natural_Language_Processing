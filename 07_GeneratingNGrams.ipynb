{
  "nbformat": 4,
  "nbformat_minor": 0,
  "metadata": {
    "colab": {
      "provenance": [],
      "authorship_tag": "ABX9TyMHpQSX7IerEuR0+lXH1qpc"
    },
    "kernelspec": {
      "name": "python3",
      "display_name": "Python 3"
    },
    "language_info": {
      "name": "python"
    }
  },
  "cells": [
    {
      "cell_type": "code",
      "execution_count": null,
      "metadata": {
        "id": "wJRYFOE3OyM0"
      },
      "outputs": [],
      "source": [
        "import nltk"
      ]
    },
    {
      "cell_type": "code",
      "source": [
        "from nltk.util import ngrams\n",
        "from nltk.tokenize import word_tokenize"
      ],
      "metadata": {
        "id": "xt2nnV94O6k6"
      },
      "execution_count": null,
      "outputs": []
    },
    {
      "cell_type": "code",
      "source": [
        "nltk.download('punkt_tab')"
      ],
      "metadata": {
        "colab": {
          "base_uri": "https://localhost:8080/"
        },
        "id": "yVcgqfCnPEWr",
        "outputId": "9fc841a1-fb1e-4529-b3d3-69f8bb5f82c8"
      },
      "execution_count": null,
      "outputs": [
        {
          "output_type": "stream",
          "name": "stderr",
          "text": [
            "[nltk_data] Downloading package punkt_tab to /root/nltk_data...\n",
            "[nltk_data]   Unzipping tokenizers/punkt_tab.zip.\n"
          ]
        },
        {
          "output_type": "execute_result",
          "data": {
            "text/plain": [
              "True"
            ]
          },
          "metadata": {},
          "execution_count": 3
        }
      ]
    },
    {
      "cell_type": "code",
      "source": [
        "def generate_ngrams(text, n):\n",
        "    tokens = word_tokenize(text)\n",
        "    n_grams=list(ngrams(tokens, n))\n",
        "    return n_grams"
      ],
      "metadata": {
        "id": "z5fFj0f1PIVE"
      },
      "execution_count": null,
      "outputs": []
    },
    {
      "cell_type": "code",
      "source": [
        "text = \"This is a simple example to generate n-grams.\"\n",
        "n=3\n",
        "ngram_result=generate_ngrams(text, n)\n",
        "for ngram in ngram_result:\n",
        "  print(ngram)"
      ],
      "metadata": {
        "colab": {
          "base_uri": "https://localhost:8080/"
        },
        "id": "LPxAAqgkPbE0",
        "outputId": "de2962e5-58c4-4537-cbd7-0b87cad44988"
      },
      "execution_count": null,
      "outputs": [
        {
          "output_type": "stream",
          "name": "stdout",
          "text": [
            "('This', 'is', 'a')\n",
            "('is', 'a', 'simple')\n",
            "('a', 'simple', 'example')\n",
            "('simple', 'example', 'to')\n",
            "('example', 'to', 'generate')\n",
            "('to', 'generate', 'n-grams')\n",
            "('generate', 'n-grams', '.')\n"
          ]
        }
      ]
    }
  ]
}