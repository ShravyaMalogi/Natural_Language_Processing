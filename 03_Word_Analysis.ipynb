{
  "nbformat": 4,
  "nbformat_minor": 0,
  "metadata": {
    "colab": {
      "provenance": [],
      "authorship_tag": "ABX9TyP2FUIXeG6+zmyzi+Og+jrV"
    },
    "kernelspec": {
      "name": "python3",
      "display_name": "Python 3"
    },
    "language_info": {
      "name": "python"
    }
  },
  "cells": [
    {
      "cell_type": "code",
      "execution_count": null,
      "metadata": {
        "colab": {
          "base_uri": "https://localhost:8080/"
        },
        "id": "FNZkuu_0PZNE",
        "outputId": "76f2cebf-af6f-46f9-dd9a-e387ee6738df"
      },
      "outputs": [
        {
          "output_type": "stream",
          "name": "stdout",
          "text": [
            "Total words: 20\n",
            "\n",
            "Word Frequencies: \n",
            "This:1\n",
            "is:1\n",
            "a:1\n",
            "simple:1\n",
            "text:1\n",
            "analysis:1\n",
            "program:1\n",
            "to:1\n",
            "count:1\n",
            "the:2\n",
            "frequency:1\n",
            "of:1\n",
            "words:2\n",
            "and:2\n",
            "identify:1\n",
            "longest:1\n",
            "shortest:1\n",
            "\n",
            "Longest word: frequency\n",
            "Shortest word: a\n"
          ]
        }
      ],
      "source": [
        "from collections import Counter\n",
        "\n",
        "def word_analysis(text):\n",
        "  words=text.split()\n",
        "  total_words=len(words)\n",
        "  word_freq=Counter(words)\n",
        "\n",
        "  longest_word=max(words,key=len)\n",
        "  shortest_word=min(words,key=len)\n",
        "\n",
        "  print(f\"Total words: {total_words}\")\n",
        "  print(\"\\nWord Frequencies: \")\n",
        "  for word,freq in word_freq.items():\n",
        "    print(f\"{word}:{freq}\")\n",
        "\n",
        "  print(f\"\\nLongest word: {longest_word}\")\n",
        "  print(f\"Shortest word: {shortest_word}\")\n",
        "\n",
        "text_input=\"This is a simple text analysis program to count the frequency of words and identify the longest and shortest words\"\n",
        "\n",
        "word_analysis(text_input)"
      ]
    },
    {
      "cell_type": "code",
      "source": [
        "import random\n",
        "import string\n",
        "\n",
        "def generate_random_word(length):\n",
        "  \"\"\"Generate a random word with the given length\"\"\"\n",
        "  letters=string.ascii_lowercase\n",
        "  return ''.join(random.choice(letters) for _ in range(length))\n",
        "\n",
        "def generate_multiple_words(word_count,word_length):\n",
        "  \"\"\"Generate multiple random words with the given length\"\"\"\n",
        "  words=[]\n",
        "  for _ in range(word_count):\n",
        "    words.append(generate_random_word(word_length))\n",
        "  return [generate_random_word(word_length) for _ in range(word_count)]\n",
        "\n",
        "if __name__ == \"__main__\":\n",
        "  num_word=10\n",
        "  length_of_word=5\n",
        "\n",
        "  words=generate_multiple_words(num_word,length_of_word)\n",
        "  print(\"Generated words:\")\n",
        "  for word in words:\n",
        "    print(word)"
      ],
      "metadata": {
        "colab": {
          "base_uri": "https://localhost:8080/"
        },
        "id": "8Oug3G14RN45",
        "outputId": "fbc3f2e7-8bfa-4462-af8f-a63ae820eebc"
      },
      "execution_count": null,
      "outputs": [
        {
          "output_type": "stream",
          "name": "stdout",
          "text": [
            "Generated words:\n",
            "jwiks\n",
            "mcwwm\n",
            "phbbs\n",
            "orbut\n",
            "hbedj\n",
            "xugni\n",
            "koqyx\n",
            "fxjsf\n",
            "rfjgz\n",
            "gifzt\n"
          ]
        }
      ]
    }
  ]
}