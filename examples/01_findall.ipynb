{
  "nbformat": 4,
  "nbformat_minor": 0,
  "metadata": {
    "colab": {
      "provenance": [],
      "authorship_tag": "ABX9TyNlyy5OP2vv4wX88siBa0L+"
    },
    "kernelspec": {
      "name": "python3",
      "display_name": "Python 3"
    },
    "language_info": {
      "name": "python"
    }
  },
  "cells": [
    {
      "cell_type": "markdown",
      "source": [
        "\n",
        "\n",
        "This code extracts **numbers** from a given text using Python’s `re` module, which handles **regular expressions**.  \n",
        "\n",
        "### 🔹 Step-by-Step Breakdown  \n",
        "\n",
        "1. **Importing the `re` module**  \n",
        "   - The `re` module is Python’s built-in library for **pattern matching** using regular expressions.  \n",
        "\n",
        "2. **Defining the text to search**  \n",
        "   - The string contains both words and numbers, e.g., `\"Hello my Number is 123456789 and my friend's number is 987654321\"`.  \n",
        "\n",
        "3. **Understanding the Regular Expression (`\\d+`)**  \n",
        "   - `\\d` → Matches any **digit** (0-9).  \n",
        "   - `+` → Matches **one or more** consecutive digits.  \n",
        "   - So, `\\d+` ensures that all **number sequences** in the text are captured.  \n",
        "\n",
        "4. **Using `re.findall()`**  \n",
        "   - `re.findall(pattern, text)` searches the given text for all **matches** of the pattern.  \n",
        "   - It returns a **list of extracted numbers**.  \n",
        "\n",
        "5. **Printing the Result**  \n",
        "   - The output of this program will be:  \n",
        "     ```python\n",
        "     ['123456789', '987654321']\n",
        "     ```\n",
        "   - These numbers are extracted from the text and stored in a list.  "
      ],
      "metadata": {
        "id": "jT4ngbhuJnjJ"
      }
    },
    {
      "cell_type": "code",
      "execution_count": 1,
      "metadata": {
        "colab": {
          "base_uri": "https://localhost:8080/"
        },
        "id": "6PqWs9ecH45M",
        "outputId": "a2c244f7-48f5-4a37-e9e3-e9fe053949ad"
      },
      "outputs": [
        {
          "output_type": "stream",
          "name": "stdout",
          "text": [
            "['123456789', '987654321']\n"
          ]
        }
      ],
      "source": [
        "import re\n",
        "string = \"\"\"Hello my Number is 123456789 and my friend's number is 987654321\"\"\"\n",
        "regex='\\d+'\n",
        "\n",
        "match = re.findall(regex,string)\n",
        "print(match)"
      ]
    },
    {
      "cell_type": "markdown",
      "source": [
        "### 🎯 Summary  \n",
        "- This script **automatically identifies and extracts numbers** from a string.  \n",
        "- The **regular expression** ensures that only numeric sequences are captured.  \n",
        "- The **output is a list of numbers**, which can be further processed as needed.  "
      ],
      "metadata": {
        "id": "qxxD3LBiJ0kK"
      }
    }
  ]
}
